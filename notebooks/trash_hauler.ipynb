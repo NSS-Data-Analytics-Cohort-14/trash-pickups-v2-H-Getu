{
 "cells": [
  {
   "cell_type": "code",
   "execution_count": 4,
   "id": "1dac0337-1604-4aac-9a1c-46b0ac5e0a37",
   "metadata": {},
   "outputs": [],
   "source": [
    "import pandas as pd\n",
    "import geopandas as gpd\n",
    "import matplotlib.pyplot as plt\n",
    "import folium\n",
    "from folium.plugins import MarkerCluster\n",
    "from folium.plugins import FastMarkerCluster\n",
    "import re"
   ]
  },
  {
   "cell_type": "markdown",
   "id": "7564d38f-de9e-4ad7-9a78-bd703df1268f",
   "metadata": {},
   "source": [
    "## Missed Trash Pickups\n",
    "\n",
    "In this data question you will be working data of service request related to missed trash pickups from hubNashville, Metro Nashville government's comprehensive customer service system (https://hub.nashville.gov).\n",
    "\n",
    "As part of Metro's contract with Red River Waste Solutions, failure to remedy an action or inaction will result in liquidated damages. One category of liquidated damages is related to chronic problems in any category of service at the same premises. A chronic problem is defined as more than one missed pickup for any address. The first missed pickup will not result in a fine; however, every subsequent missed pickup will result in a $200 fine.\n",
    "\n",
    "Your job is to determine the total amount of damages due to missed pickups. Note that not all rows that you have been provided correspond to missed pickups and that you will need to ensure that you are only counting missed pickups.\n",
    "\n",
    "After determining the total amount of damages, you can look at other questions:\n",
    "\n",
    "* What other types of complaints are there?\n",
    "* Are there any geospatial analysis you can do?  Which visualizations can you create?\n",
    "* How do metro crews compare to the contractor's performance?\n",
    "* How much does each trash hauler owe?\n",
    "* What were to total missed pickup by route?"
   ]
  },
  {
   "cell_type": "code",
   "execution_count": 23,
   "id": "0dae012f-4725-436d-8997-b9a531d409f7",
   "metadata": {},
   "outputs": [
    {
     "data": {
      "text/plain": [
       "(20226, 13)"
      ]
     },
     "execution_count": 23,
     "metadata": {},
     "output_type": "execute_result"
    }
   ],
   "source": [
    "#import the dataset to dataframe and check shape \n",
    "trash_hauler = pd.read_csv('../data/trash_hauler_report_with_lat_lng.csv')\n",
    "trash_hauler.shape"
   ]
  },
  {
   "cell_type": "code",
   "execution_count": 24,
   "id": "8dca8133-bd13-4a31-a21a-a553db68ce4b",
   "metadata": {},
   "outputs": [
    {
     "data": {
      "text/html": [
       "<div>\n",
       "<style scoped>\n",
       "    .dataframe tbody tr th:only-of-type {\n",
       "        vertical-align: middle;\n",
       "    }\n",
       "\n",
       "    .dataframe tbody tr th {\n",
       "        vertical-align: top;\n",
       "    }\n",
       "\n",
       "    .dataframe thead th {\n",
       "        text-align: right;\n",
       "    }\n",
       "</style>\n",
       "<table border=\"1\" class=\"dataframe\">\n",
       "  <thead>\n",
       "    <tr style=\"text-align: right;\">\n",
       "      <th></th>\n",
       "      <th>Request Number</th>\n",
       "      <th>Date Opened</th>\n",
       "      <th>Request</th>\n",
       "      <th>Description</th>\n",
       "      <th>Incident Address</th>\n",
       "      <th>Zip Code</th>\n",
       "      <th>Trash Hauler</th>\n",
       "      <th>Trash Route</th>\n",
       "      <th>Council District</th>\n",
       "      <th>State Plan X</th>\n",
       "      <th>State Plan Y</th>\n",
       "      <th>LONGITUDE</th>\n",
       "      <th>LATITUDE</th>\n",
       "    </tr>\n",
       "  </thead>\n",
       "  <tbody>\n",
       "    <tr>\n",
       "      <th>0</th>\n",
       "      <td>25270</td>\n",
       "      <td>11/1/2017</td>\n",
       "      <td>Trash - Backdoor</td>\n",
       "      <td>house with the wheel chair ramp, they share dr...</td>\n",
       "      <td>3817 Crouch Dr</td>\n",
       "      <td>37207.0</td>\n",
       "      <td>RED RIVER</td>\n",
       "      <td>3205</td>\n",
       "      <td>2.0</td>\n",
       "      <td>1727970.412</td>\n",
       "      <td>686779.4781</td>\n",
       "      <td>-86.815392</td>\n",
       "      <td>36.217292</td>\n",
       "    </tr>\n",
       "    <tr>\n",
       "      <th>1</th>\n",
       "      <td>25274</td>\n",
       "      <td>11/1/2017</td>\n",
       "      <td>Trash - Curbside/Alley Missed Pickup</td>\n",
       "      <td>Curb/Trash miss Tuesday.</td>\n",
       "      <td>4028 Clarksville Pike</td>\n",
       "      <td>37218.0</td>\n",
       "      <td>RED RIVER</td>\n",
       "      <td>4202</td>\n",
       "      <td>1.0</td>\n",
       "      <td>1721259.366</td>\n",
       "      <td>685444.7996</td>\n",
       "      <td>-86.838103</td>\n",
       "      <td>36.213470</td>\n",
       "    </tr>\n",
       "    <tr>\n",
       "      <th>2</th>\n",
       "      <td>25276</td>\n",
       "      <td>11/1/2017</td>\n",
       "      <td>Trash - Curbside/Alley Missed Pickup</td>\n",
       "      <td>Curb/trash miss Tuesday.</td>\n",
       "      <td>6528 Thunderbird Dr</td>\n",
       "      <td>37209.0</td>\n",
       "      <td>RED RIVER</td>\n",
       "      <td>4205</td>\n",
       "      <td>20.0</td>\n",
       "      <td>1707026.753</td>\n",
       "      <td>659887.4716</td>\n",
       "      <td>-86.885562</td>\n",
       "      <td>36.142923</td>\n",
       "    </tr>\n",
       "    <tr>\n",
       "      <th>3</th>\n",
       "      <td>25307</td>\n",
       "      <td>11/1/2017</td>\n",
       "      <td>Trash - Curbside/Alley Missed Pickup</td>\n",
       "      <td>missed</td>\n",
       "      <td>2603 old matthews rd</td>\n",
       "      <td>37207.0</td>\n",
       "      <td>WASTE IND</td>\n",
       "      <td>2206</td>\n",
       "      <td>2.0</td>\n",
       "      <td>1735691.771</td>\n",
       "      <td>685027.2459</td>\n",
       "      <td>-86.789170</td>\n",
       "      <td>36.212652</td>\n",
       "    </tr>\n",
       "    <tr>\n",
       "      <th>4</th>\n",
       "      <td>25312</td>\n",
       "      <td>11/1/2017</td>\n",
       "      <td>Trash - Curbside/Alley Missed Pickup</td>\n",
       "      <td>Missed the even side of the road.</td>\n",
       "      <td>604 croley dr</td>\n",
       "      <td>37209.0</td>\n",
       "      <td>RED RIVER</td>\n",
       "      <td>4203</td>\n",
       "      <td>20.0</td>\n",
       "      <td>1710185.772</td>\n",
       "      <td>664205.1011</td>\n",
       "      <td>-86.874995</td>\n",
       "      <td>36.154861</td>\n",
       "    </tr>\n",
       "  </tbody>\n",
       "</table>\n",
       "</div>"
      ],
      "text/plain": [
       "   Request Number Date Opened                               Request  \\\n",
       "0           25270   11/1/2017                      Trash - Backdoor   \n",
       "1           25274   11/1/2017  Trash - Curbside/Alley Missed Pickup   \n",
       "2           25276   11/1/2017  Trash - Curbside/Alley Missed Pickup   \n",
       "3           25307   11/1/2017  Trash - Curbside/Alley Missed Pickup   \n",
       "4           25312   11/1/2017  Trash - Curbside/Alley Missed Pickup   \n",
       "\n",
       "                                         Description       Incident Address  \\\n",
       "0  house with the wheel chair ramp, they share dr...         3817 Crouch Dr   \n",
       "1                           Curb/Trash miss Tuesday.  4028 Clarksville Pike   \n",
       "2                           Curb/trash miss Tuesday.    6528 Thunderbird Dr   \n",
       "3                                             missed   2603 old matthews rd   \n",
       "4                  Missed the even side of the road.          604 croley dr   \n",
       "\n",
       "   Zip Code Trash Hauler Trash Route  Council District  State Plan X  \\\n",
       "0   37207.0    RED RIVER        3205               2.0   1727970.412   \n",
       "1   37218.0    RED RIVER        4202               1.0   1721259.366   \n",
       "2   37209.0    RED RIVER        4205              20.0   1707026.753   \n",
       "3   37207.0    WASTE IND        2206               2.0   1735691.771   \n",
       "4   37209.0    RED RIVER        4203              20.0   1710185.772   \n",
       "\n",
       "   State Plan Y  LONGITUDE   LATITUDE  \n",
       "0   686779.4781 -86.815392  36.217292  \n",
       "1   685444.7996 -86.838103  36.213470  \n",
       "2   659887.4716 -86.885562  36.142923  \n",
       "3   685027.2459 -86.789170  36.212652  \n",
       "4   664205.1011 -86.874995  36.154861  "
      ]
     },
     "execution_count": 24,
     "metadata": {},
     "output_type": "execute_result"
    }
   ],
   "source": [
    "trash_hauler.head()"
   ]
  },
  {
   "cell_type": "code",
   "execution_count": 83,
   "id": "cc998c60-902a-473b-98ff-e30d504e3a74",
   "metadata": {},
   "outputs": [
    {
     "data": {
      "text/plain": [
       "(14395, 13)"
      ]
     },
     "execution_count": 83,
     "metadata": {},
     "output_type": "execute_result"
    }
   ],
   "source": [
    "Red_River = trash_hauler[trash_hauler[\"Trash Hauler\"] == \"RED RIVER\"]\n",
    "Red_River.shape"
   ]
  },
  {
   "cell_type": "code",
   "execution_count": 86,
   "id": "0aa23c19-2025-4018-b601-372cd76d74e6",
   "metadata": {},
   "outputs": [
    {
     "data": {
      "text/plain": [
       "(10715, 13)"
      ]
     },
     "execution_count": 86,
     "metadata": {},
     "output_type": "execute_result"
    }
   ],
   "source": [
    "# Function to check for \"Missed\" or \"missed\"\\s\"Pickup\" or \"pickup\" in the Request column\n",
    "def missed_pickup(col):\n",
    "    return bool(re.search(r'[Mm]issed\\s[Pp]ickup', col))\n",
    "\n",
    "# Apply the function \n",
    "missed_pickups = Red_River[Red_River['Request'].apply(missed_pickup)]\n",
    "missed_pickups.shape"
   ]
  },
  {
   "cell_type": "code",
   "execution_count": 87,
   "id": "f747b869-ffa9-4ab3-abbd-56354bf785dd",
   "metadata": {},
   "outputs": [],
   "source": [
    "#chronic problems\n",
    "adress_problem = {}\n",
    "for adress in missed_pickups[\"Incident Address\"]:\n",
    "    if adress in adress_problem.keys():\n",
    "        adress_problem[adress] +=1\n",
    "    else:\n",
    "        adress_problem[adress] = 1       \n",
    "        "
   ]
  },
  {
   "cell_type": "code",
   "execution_count": 88,
   "id": "a60c8dc7-5565-4337-ba6e-22ceae0cfdd0",
   "metadata": {},
   "outputs": [
    {
     "data": {
      "text/plain": [
       "10715"
      ]
     },
     "execution_count": 88,
     "metadata": {},
     "output_type": "execute_result"
    }
   ],
   "source": [
    "#check if all rows are returned\n",
    "sum(list(adress_problem.values()))"
   ]
  },
  {
   "cell_type": "code",
   "execution_count": 124,
   "id": "a5ce0fa0-8f37-4f97-a2ef-e05bae8b26cc",
   "metadata": {},
   "outputs": [
    {
     "name": "stdout",
     "output_type": "stream",
     "text": [
      "Overall 1,551 adresses were affected due to chronic problem.\n",
      " This happened 4,075 times and the total amount of damage due to chronic problem is $ 504,800.00.\n"
     ]
    }
   ],
   "source": [
    "total_damage = 0\n",
    "chronic_problem = 0\n",
    "adress_affected = 0\n",
    "for key, value in adress_problem.items():\n",
    "    if value > 1:\n",
    "        total_damage += (value-1)*200\n",
    "        chronic_problem += value\n",
    "        adress_affected += 1\n",
    "        \n",
    "print(f'Overall {adress_affected:,} adresses were affected due to chronic problem.\\n This happened {chronic_problem:,} times and the total \\\n",
    "amount of damage due to chronic problem is $ {total_damage:,.2f}.')       \n"
   ]
  },
  {
   "cell_type": "markdown",
   "id": "e920650f-e59c-486c-9ba3-6c5c998e21a1",
   "metadata": {},
   "source": [
    "#### What other types of complaints are there?"
   ]
  },
  {
   "cell_type": "code",
   "execution_count": 125,
   "id": "aa505f41-cf51-49e3-9adb-4ec20eaa378c",
   "metadata": {},
   "outputs": [],
   "source": [
    "complaints_rr = Red_River.groupby('Request').size().reset_index(name='count')\n",
    "complaints_rr = complaints_rr.sort_values(\"count\", ascending = False)\n",
    "total_complaints = sum(complaints_rr['count'])"
   ]
  },
  {
   "cell_type": "code",
   "execution_count": 126,
   "id": "51645527-1b85-4f94-b8f5-0c6dbf10f652",
   "metadata": {},
   "outputs": [],
   "source": [
    "complaints_rr['perecentage'] = round((complaints_rr['count']/total_complaints)*100,2)"
   ]
  },
  {
   "cell_type": "code",
   "execution_count": 127,
   "id": "0422b05e-76ec-43fe-a589-f8b20a724124",
   "metadata": {},
   "outputs": [
    {
     "data": {
      "text/html": [
       "<div>\n",
       "<style scoped>\n",
       "    .dataframe tbody tr th:only-of-type {\n",
       "        vertical-align: middle;\n",
       "    }\n",
       "\n",
       "    .dataframe tbody tr th {\n",
       "        vertical-align: top;\n",
       "    }\n",
       "\n",
       "    .dataframe thead th {\n",
       "        text-align: right;\n",
       "    }\n",
       "</style>\n",
       "<table border=\"1\" class=\"dataframe\">\n",
       "  <thead>\n",
       "    <tr style=\"text-align: right;\">\n",
       "      <th></th>\n",
       "      <th>Request</th>\n",
       "      <th>count</th>\n",
       "      <th>perecentage</th>\n",
       "    </tr>\n",
       "  </thead>\n",
       "  <tbody>\n",
       "    <tr>\n",
       "      <th>2</th>\n",
       "      <td>Trash - Curbside/Alley Missed Pickup</td>\n",
       "      <td>10715</td>\n",
       "      <td>74.44</td>\n",
       "    </tr>\n",
       "    <tr>\n",
       "      <th>1</th>\n",
       "      <td>Trash - Backdoor</td>\n",
       "      <td>2196</td>\n",
       "      <td>15.26</td>\n",
       "    </tr>\n",
       "    <tr>\n",
       "      <th>3</th>\n",
       "      <td>Trash Collection Complaint</td>\n",
       "      <td>1287</td>\n",
       "      <td>8.94</td>\n",
       "    </tr>\n",
       "    <tr>\n",
       "      <th>0</th>\n",
       "      <td>Damage to Property</td>\n",
       "      <td>197</td>\n",
       "      <td>1.37</td>\n",
       "    </tr>\n",
       "  </tbody>\n",
       "</table>\n",
       "</div>"
      ],
      "text/plain": [
       "                                Request  count  perecentage\n",
       "2  Trash - Curbside/Alley Missed Pickup  10715        74.44\n",
       "1                      Trash - Backdoor   2196        15.26\n",
       "3            Trash Collection Complaint   1287         8.94\n",
       "0                    Damage to Property    197         1.37"
      ]
     },
     "execution_count": 127,
     "metadata": {},
     "output_type": "execute_result"
    }
   ],
   "source": [
    "complaints_rr"
   ]
  },
  {
   "cell_type": "markdown",
   "id": "e5a2b04d-78f6-4753-81cc-a5efb05014df",
   "metadata": {},
   "source": [
    "#### Are there any geospatial analysis you can do? Which visualizations can you create?"
   ]
  },
  {
   "cell_type": "code",
   "execution_count": 143,
   "id": "5d463174-e859-4ac7-a465-0b4deffaa213",
   "metadata": {},
   "outputs": [],
   "source": [
    "zipcodes = gpd.read_file('..\\..\\..\\project_ 2\\geospatial-1-1-da14-H-Getu\\data/zipcodes.geojson')"
   ]
  },
  {
   "cell_type": "code",
   "execution_count": 176,
   "id": "6e37af63-7353-46a8-898d-a54cd7851dc0",
   "metadata": {},
   "outputs": [
    {
     "data": {
      "text/plain": [
       "0        POINT (-86.81539 36.21729)\n",
       "1        POINT (-86.83810 36.21347)\n",
       "2        POINT (-86.88556 36.14292)\n",
       "4        POINT (-86.87499 36.15486)\n",
       "5        POINT (-86.73398 36.09814)\n",
       "                    ...            \n",
       "20220    POINT (-86.67186 36.18948)\n",
       "20221    POINT (-86.63397 36.06913)\n",
       "20223    POINT (-86.67165 36.18564)\n",
       "20224    POINT (-86.62003 36.05464)\n",
       "20225    POINT (-86.63333 36.08368)\n",
       "Length: 14395, dtype: geometry"
      ]
     },
     "execution_count": 176,
     "metadata": {},
     "output_type": "execute_result"
    }
   ],
   "source": [
    "#convert the Red_River DataFrame to GeoDataFrame\n",
    "Red_River_geo = gpd.GeoDataFrame(Red_River,geometry = gpd.points_from_xy(Red_River.LONGITUDE, Red_River.LATITUDE))\n",
    "Red_River_geo.geometry.centroid"
   ]
  },
  {
   "cell_type": "code",
   "execution_count": 179,
   "id": "6407a436-6c6a-4c2c-bc8c-64425f92b5bd",
   "metadata": {},
   "outputs": [],
   "source": [
    "center =  Red_River_geo.geometry.centroid[20220]\n",
    "# reverse the order when constructing the array for folium location\n",
    "area_center = [center.y, center.x]"
   ]
  },
  {
   "cell_type": "code",
   "execution_count": 202,
   "id": "1a9c1c7e-594e-478a-86ee-d438175dda56",
   "metadata": {},
   "outputs": [
    {
     "ename": "IndentationError",
     "evalue": "unexpected indent (2002812729.py, line 4)",
     "output_type": "error",
     "traceback": [
      "\u001b[1;36m  Cell \u001b[1;32mIn[202], line 4\u001b[1;36m\u001b[0m\n\u001b[1;33m    for row_index, row_values in Red_River_geo.iterrows():\u001b[0m\n\u001b[1;37m    ^\u001b[0m\n\u001b[1;31mIndentationError\u001b[0m\u001b[1;31m:\u001b[0m unexpected indent\n"
     ]
    }
   ],
   "source": [
    "#create a map\n",
    "map_rr = folium.Map(location =  area_center, zoom_start = 12)\n",
    "\n",
    "    for row_index, row_values in Red_River_geo.iterrows():\n",
    "        loc = [row_values['LATITUDE'], row_values['LONGITUDE']]\n",
    "        icon=folium.Icon(color=\"blue\",icon=\"bus\", prefix='fa')\n",
    "        marker = folium.Marker( location = loc)\n",
    "        marker.add_to(map_rr)\n",
    "        map_rr.save('../maps/map_rr.html')\n",
    "\n",
    "#display our map\n",
    "map_rr"
   ]
  },
  {
   "cell_type": "code",
   "execution_count": 183,
   "id": "ffc6740b-ae5b-4899-b860-f976d11de933",
   "metadata": {},
   "outputs": [
    {
     "data": {
      "text/html": [
       "<div>\n",
       "<style scoped>\n",
       "    .dataframe tbody tr th:only-of-type {\n",
       "        vertical-align: middle;\n",
       "    }\n",
       "\n",
       "    .dataframe tbody tr th {\n",
       "        vertical-align: top;\n",
       "    }\n",
       "\n",
       "    .dataframe thead th {\n",
       "        text-align: right;\n",
       "    }\n",
       "</style>\n",
       "<table border=\"1\" class=\"dataframe\">\n",
       "  <thead>\n",
       "    <tr style=\"text-align: right;\">\n",
       "      <th></th>\n",
       "      <th>Request Number</th>\n",
       "      <th>Date Opened</th>\n",
       "      <th>Request</th>\n",
       "      <th>Description</th>\n",
       "      <th>Incident Address</th>\n",
       "      <th>Zip Code</th>\n",
       "      <th>Trash Hauler</th>\n",
       "      <th>Trash Route</th>\n",
       "      <th>Council District</th>\n",
       "      <th>State Plan X</th>\n",
       "      <th>State Plan Y</th>\n",
       "      <th>LONGITUDE</th>\n",
       "      <th>LATITUDE</th>\n",
       "      <th>geometry</th>\n",
       "    </tr>\n",
       "  </thead>\n",
       "  <tbody>\n",
       "    <tr>\n",
       "      <th>0</th>\n",
       "      <td>25270</td>\n",
       "      <td>11/1/2017</td>\n",
       "      <td>Trash - Backdoor</td>\n",
       "      <td>house with the wheel chair ramp, they share dr...</td>\n",
       "      <td>3817 Crouch Dr</td>\n",
       "      <td>37207.0</td>\n",
       "      <td>RED RIVER</td>\n",
       "      <td>3205</td>\n",
       "      <td>2.0</td>\n",
       "      <td>1727970.412</td>\n",
       "      <td>686779.4781</td>\n",
       "      <td>-86.815392</td>\n",
       "      <td>36.217292</td>\n",
       "      <td>POINT (-86.81539 36.21729)</td>\n",
       "    </tr>\n",
       "    <tr>\n",
       "      <th>1</th>\n",
       "      <td>25274</td>\n",
       "      <td>11/1/2017</td>\n",
       "      <td>Trash - Curbside/Alley Missed Pickup</td>\n",
       "      <td>Curb/Trash miss Tuesday.</td>\n",
       "      <td>4028 Clarksville Pike</td>\n",
       "      <td>37218.0</td>\n",
       "      <td>RED RIVER</td>\n",
       "      <td>4202</td>\n",
       "      <td>1.0</td>\n",
       "      <td>1721259.366</td>\n",
       "      <td>685444.7996</td>\n",
       "      <td>-86.838103</td>\n",
       "      <td>36.213470</td>\n",
       "      <td>POINT (-86.83810 36.21347)</td>\n",
       "    </tr>\n",
       "    <tr>\n",
       "      <th>2</th>\n",
       "      <td>25276</td>\n",
       "      <td>11/1/2017</td>\n",
       "      <td>Trash - Curbside/Alley Missed Pickup</td>\n",
       "      <td>Curb/trash miss Tuesday.</td>\n",
       "      <td>6528 Thunderbird Dr</td>\n",
       "      <td>37209.0</td>\n",
       "      <td>RED RIVER</td>\n",
       "      <td>4205</td>\n",
       "      <td>20.0</td>\n",
       "      <td>1707026.753</td>\n",
       "      <td>659887.4716</td>\n",
       "      <td>-86.885562</td>\n",
       "      <td>36.142923</td>\n",
       "      <td>POINT (-86.88556 36.14292)</td>\n",
       "    </tr>\n",
       "    <tr>\n",
       "      <th>4</th>\n",
       "      <td>25312</td>\n",
       "      <td>11/1/2017</td>\n",
       "      <td>Trash - Curbside/Alley Missed Pickup</td>\n",
       "      <td>Missed the even side of the road.</td>\n",
       "      <td>604 croley dr</td>\n",
       "      <td>37209.0</td>\n",
       "      <td>RED RIVER</td>\n",
       "      <td>4203</td>\n",
       "      <td>20.0</td>\n",
       "      <td>1710185.772</td>\n",
       "      <td>664205.1011</td>\n",
       "      <td>-86.874995</td>\n",
       "      <td>36.154861</td>\n",
       "      <td>POINT (-86.87499 36.15486)</td>\n",
       "    </tr>\n",
       "    <tr>\n",
       "      <th>5</th>\n",
       "      <td>25317</td>\n",
       "      <td>11/1/2017</td>\n",
       "      <td>Trash Collection Complaint</td>\n",
       "      <td>left trash cart in middle of driveway instead ...</td>\n",
       "      <td>3602 floral dr</td>\n",
       "      <td>37211.0</td>\n",
       "      <td>RED RIVER</td>\n",
       "      <td>4304</td>\n",
       "      <td>16.0</td>\n",
       "      <td>1751660.164</td>\n",
       "      <td>643215.2011</td>\n",
       "      <td>-86.733980</td>\n",
       "      <td>36.098140</td>\n",
       "      <td>POINT (-86.73398 36.09814)</td>\n",
       "    </tr>\n",
       "  </tbody>\n",
       "</table>\n",
       "</div>"
      ],
      "text/plain": [
       "   Request Number Date Opened                               Request  \\\n",
       "0           25270   11/1/2017                      Trash - Backdoor   \n",
       "1           25274   11/1/2017  Trash - Curbside/Alley Missed Pickup   \n",
       "2           25276   11/1/2017  Trash - Curbside/Alley Missed Pickup   \n",
       "4           25312   11/1/2017  Trash - Curbside/Alley Missed Pickup   \n",
       "5           25317   11/1/2017            Trash Collection Complaint   \n",
       "\n",
       "                                         Description       Incident Address  \\\n",
       "0  house with the wheel chair ramp, they share dr...         3817 Crouch Dr   \n",
       "1                           Curb/Trash miss Tuesday.  4028 Clarksville Pike   \n",
       "2                           Curb/trash miss Tuesday.    6528 Thunderbird Dr   \n",
       "4                  Missed the even side of the road.          604 croley dr   \n",
       "5  left trash cart in middle of driveway instead ...         3602 floral dr   \n",
       "\n",
       "   Zip Code Trash Hauler Trash Route  Council District  State Plan X  \\\n",
       "0   37207.0    RED RIVER        3205               2.0   1727970.412   \n",
       "1   37218.0    RED RIVER        4202               1.0   1721259.366   \n",
       "2   37209.0    RED RIVER        4205              20.0   1707026.753   \n",
       "4   37209.0    RED RIVER        4203              20.0   1710185.772   \n",
       "5   37211.0    RED RIVER        4304              16.0   1751660.164   \n",
       "\n",
       "   State Plan Y  LONGITUDE   LATITUDE                    geometry  \n",
       "0   686779.4781 -86.815392  36.217292  POINT (-86.81539 36.21729)  \n",
       "1   685444.7996 -86.838103  36.213470  POINT (-86.83810 36.21347)  \n",
       "2   659887.4716 -86.885562  36.142923  POINT (-86.88556 36.14292)  \n",
       "4   664205.1011 -86.874995  36.154861  POINT (-86.87499 36.15486)  \n",
       "5   643215.2011 -86.733980  36.098140  POINT (-86.73398 36.09814)  "
      ]
     },
     "execution_count": 183,
     "metadata": {},
     "output_type": "execute_result"
    }
   ],
   "source": [
    "Red_River_geo.head()"
   ]
  },
  {
   "cell_type": "markdown",
   "id": "fcf652d8-8329-42ca-b102-ca59912d9555",
   "metadata": {},
   "source": [
    "#### How do metro crews compare to the contractor's performance?\n"
   ]
  },
  {
   "cell_type": "code",
   "execution_count": 263,
   "id": "c403a040-159c-44e4-8965-d156612d7357",
   "metadata": {},
   "outputs": [],
   "source": [
    "all_haulers = trash_hauler.groupby([\"Trash Hauler\", \"Request\"]).size().reset_index( name = \"count\")\n",
    "all_haulers['Trash Hauler'] = all_haulers['Trash Hauler'].apply(lambda x: re.sub(r'Metro', 'METRO', x))"
   ]
  },
  {
   "cell_type": "code",
   "execution_count": 265,
   "id": "b7c9d0f7-ab35-4191-aed9-f694555de722",
   "metadata": {},
   "outputs": [],
   "source": [
    "all_haulers = (pd.pivot_table(all_haulers, values='count', index='Trash Hauler', columns='Request', aggfunc='sum')\n",
    ".sort_values(by = 'Trash - Curbside/Alley Missed Pickup', ascending=False))"
   ]
  },
  {
   "cell_type": "code",
   "execution_count": 266,
   "id": "97e37554-475d-4c37-a4fc-6f577015314c",
   "metadata": {},
   "outputs": [
    {
     "data": {
      "text/html": [
       "<div>\n",
       "<style scoped>\n",
       "    .dataframe tbody tr th:only-of-type {\n",
       "        vertical-align: middle;\n",
       "    }\n",
       "\n",
       "    .dataframe tbody tr th {\n",
       "        vertical-align: top;\n",
       "    }\n",
       "\n",
       "    .dataframe thead th {\n",
       "        text-align: right;\n",
       "    }\n",
       "</style>\n",
       "<table border=\"1\" class=\"dataframe\">\n",
       "  <thead>\n",
       "    <tr style=\"text-align: right;\">\n",
       "      <th>Request</th>\n",
       "      <th>Damage to Property</th>\n",
       "      <th>Trash - Backdoor</th>\n",
       "      <th>Trash - Curbside/Alley Missed Pickup</th>\n",
       "      <th>Trash Collection Complaint</th>\n",
       "    </tr>\n",
       "    <tr>\n",
       "      <th>Trash Hauler</th>\n",
       "      <th></th>\n",
       "      <th></th>\n",
       "      <th></th>\n",
       "      <th></th>\n",
       "    </tr>\n",
       "  </thead>\n",
       "  <tbody>\n",
       "    <tr>\n",
       "      <th>RED RIVER</th>\n",
       "      <td>197</td>\n",
       "      <td>2196</td>\n",
       "      <td>10715</td>\n",
       "      <td>1287</td>\n",
       "    </tr>\n",
       "    <tr>\n",
       "      <th>METRO</th>\n",
       "      <td>33</td>\n",
       "      <td>241</td>\n",
       "      <td>2688</td>\n",
       "      <td>618</td>\n",
       "    </tr>\n",
       "    <tr>\n",
       "      <th>WASTE IND</th>\n",
       "      <td>16</td>\n",
       "      <td>82</td>\n",
       "      <td>1019</td>\n",
       "      <td>233</td>\n",
       "    </tr>\n",
       "  </tbody>\n",
       "</table>\n",
       "</div>"
      ],
      "text/plain": [
       "Request       Damage to Property  Trash - Backdoor  \\\n",
       "Trash Hauler                                         \n",
       "RED RIVER                    197              2196   \n",
       "METRO                         33               241   \n",
       "WASTE IND                     16                82   \n",
       "\n",
       "Request       Trash - Curbside/Alley Missed Pickup  Trash Collection Complaint  \n",
       "Trash Hauler                                                                    \n",
       "RED RIVER                                    10715                        1287  \n",
       "METRO                                         2688                         618  \n",
       "WASTE IND                                     1019                         233  "
      ]
     },
     "execution_count": 266,
     "metadata": {},
     "output_type": "execute_result"
    }
   ],
   "source": [
    "all_haulers"
   ]
  },
  {
   "cell_type": "markdown",
   "id": "f8495b98-3af2-4885-8e89-e5cdbabfbe74",
   "metadata": {},
   "source": [
    "#### How much does each trash hauler owe?"
   ]
  },
  {
   "cell_type": "code",
   "execution_count": null,
   "id": "89207aa3-9c61-41ff-b21c-b0453bcdd18f",
   "metadata": {},
   "outputs": [],
   "source": []
  }
 ],
 "metadata": {
  "kernelspec": {
   "display_name": "Python 3 (ipykernel)",
   "language": "python",
   "name": "python3"
  },
  "language_info": {
   "codemirror_mode": {
    "name": "ipython",
    "version": 3
   },
   "file_extension": ".py",
   "mimetype": "text/x-python",
   "name": "python",
   "nbconvert_exporter": "python",
   "pygments_lexer": "ipython3",
   "version": "3.10.17"
  }
 },
 "nbformat": 4,
 "nbformat_minor": 5
}
